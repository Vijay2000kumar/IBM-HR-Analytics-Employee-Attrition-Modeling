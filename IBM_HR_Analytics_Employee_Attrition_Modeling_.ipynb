{
  "nbformat": 4,
  "nbformat_minor": 0,
  "metadata": {
    "colab": {
      "provenance": []
    },
    "kernelspec": {
      "name": "python3",
      "display_name": "Python 3"
    },
    "language_info": {
      "name": "python"
    }
  },
  "cells": [
    {
      "cell_type": "code",
      "execution_count": 4,
      "metadata": {
        "id": "W8S6Vjc8IgP3"
      },
      "outputs": [],
      "source": [
        "import numpy as np\n",
        "import pandas as pd\n",
        "import tensorflow as tf\n",
        "import matplotlib.pyplot as plt\n",
        "%matplotlib inline\n",
        "from patsy import dmatrices\n",
        "\n",
        "import seaborn as sns"
      ]
    },
    {
      "cell_type": "code",
      "source": [
        "dataframe=pd.read_csv(\"/content/IBM HR Analytics Employee Attrition Modeling .zip\")"
      ],
      "metadata": {
        "id": "-vMEPutKKQez"
      },
      "execution_count": 5,
      "outputs": []
    },
    {
      "cell_type": "code",
      "source": [
        "dataframe.head()"
      ],
      "metadata": {
        "colab": {
          "base_uri": "https://localhost:8080/",
          "height": 340
        },
        "id": "XGB9QTmsKZIW",
        "outputId": "106f71c6-7dcd-4ab8-d4b3-9e76e2321e1a"
      },
      "execution_count": 6,
      "outputs": [
        {
          "output_type": "execute_result",
          "data": {
            "text/plain": [
              "   Age Attrition              Department  DistanceFromHome  Education  \\\n",
              "0   41       Yes                   Sales                 1          2   \n",
              "1   49        No  Research & Development                 8          1   \n",
              "2   37       Yes  Research & Development                 2          2   \n",
              "3   33        No  Research & Development                 3          4   \n",
              "4   27        No  Research & Development                 2          1   \n",
              "\n",
              "  EducationField  EnvironmentSatisfaction  JobSatisfaction MaritalStatus  \\\n",
              "0  Life Sciences                        2                4        Single   \n",
              "1  Life Sciences                        3                2       Married   \n",
              "2          Other                        4                3        Single   \n",
              "3  Life Sciences                        4                3       Married   \n",
              "4        Medical                        1                2       Married   \n",
              "\n",
              "   MonthlyIncome  NumCompaniesWorked  WorkLifeBalance  YearsAtCompany  \n",
              "0           5993                   8                1               6  \n",
              "1           5130                   1                3              10  \n",
              "2           2090                   6                3               0  \n",
              "3           2909                   1                3               8  \n",
              "4           3468                   9                3               2  "
            ],
            "text/html": [
              "\n",
              "  <div id=\"df-d5052603-73f5-4ca6-9aa7-bbbcc9ddf5ef\">\n",
              "    <div class=\"colab-df-container\">\n",
              "      <div>\n",
              "<style scoped>\n",
              "    .dataframe tbody tr th:only-of-type {\n",
              "        vertical-align: middle;\n",
              "    }\n",
              "\n",
              "    .dataframe tbody tr th {\n",
              "        vertical-align: top;\n",
              "    }\n",
              "\n",
              "    .dataframe thead th {\n",
              "        text-align: right;\n",
              "    }\n",
              "</style>\n",
              "<table border=\"1\" class=\"dataframe\">\n",
              "  <thead>\n",
              "    <tr style=\"text-align: right;\">\n",
              "      <th></th>\n",
              "      <th>Age</th>\n",
              "      <th>Attrition</th>\n",
              "      <th>Department</th>\n",
              "      <th>DistanceFromHome</th>\n",
              "      <th>Education</th>\n",
              "      <th>EducationField</th>\n",
              "      <th>EnvironmentSatisfaction</th>\n",
              "      <th>JobSatisfaction</th>\n",
              "      <th>MaritalStatus</th>\n",
              "      <th>MonthlyIncome</th>\n",
              "      <th>NumCompaniesWorked</th>\n",
              "      <th>WorkLifeBalance</th>\n",
              "      <th>YearsAtCompany</th>\n",
              "    </tr>\n",
              "  </thead>\n",
              "  <tbody>\n",
              "    <tr>\n",
              "      <th>0</th>\n",
              "      <td>41</td>\n",
              "      <td>Yes</td>\n",
              "      <td>Sales</td>\n",
              "      <td>1</td>\n",
              "      <td>2</td>\n",
              "      <td>Life Sciences</td>\n",
              "      <td>2</td>\n",
              "      <td>4</td>\n",
              "      <td>Single</td>\n",
              "      <td>5993</td>\n",
              "      <td>8</td>\n",
              "      <td>1</td>\n",
              "      <td>6</td>\n",
              "    </tr>\n",
              "    <tr>\n",
              "      <th>1</th>\n",
              "      <td>49</td>\n",
              "      <td>No</td>\n",
              "      <td>Research &amp; Development</td>\n",
              "      <td>8</td>\n",
              "      <td>1</td>\n",
              "      <td>Life Sciences</td>\n",
              "      <td>3</td>\n",
              "      <td>2</td>\n",
              "      <td>Married</td>\n",
              "      <td>5130</td>\n",
              "      <td>1</td>\n",
              "      <td>3</td>\n",
              "      <td>10</td>\n",
              "    </tr>\n",
              "    <tr>\n",
              "      <th>2</th>\n",
              "      <td>37</td>\n",
              "      <td>Yes</td>\n",
              "      <td>Research &amp; Development</td>\n",
              "      <td>2</td>\n",
              "      <td>2</td>\n",
              "      <td>Other</td>\n",
              "      <td>4</td>\n",
              "      <td>3</td>\n",
              "      <td>Single</td>\n",
              "      <td>2090</td>\n",
              "      <td>6</td>\n",
              "      <td>3</td>\n",
              "      <td>0</td>\n",
              "    </tr>\n",
              "    <tr>\n",
              "      <th>3</th>\n",
              "      <td>33</td>\n",
              "      <td>No</td>\n",
              "      <td>Research &amp; Development</td>\n",
              "      <td>3</td>\n",
              "      <td>4</td>\n",
              "      <td>Life Sciences</td>\n",
              "      <td>4</td>\n",
              "      <td>3</td>\n",
              "      <td>Married</td>\n",
              "      <td>2909</td>\n",
              "      <td>1</td>\n",
              "      <td>3</td>\n",
              "      <td>8</td>\n",
              "    </tr>\n",
              "    <tr>\n",
              "      <th>4</th>\n",
              "      <td>27</td>\n",
              "      <td>No</td>\n",
              "      <td>Research &amp; Development</td>\n",
              "      <td>2</td>\n",
              "      <td>1</td>\n",
              "      <td>Medical</td>\n",
              "      <td>1</td>\n",
              "      <td>2</td>\n",
              "      <td>Married</td>\n",
              "      <td>3468</td>\n",
              "      <td>9</td>\n",
              "      <td>3</td>\n",
              "      <td>2</td>\n",
              "    </tr>\n",
              "  </tbody>\n",
              "</table>\n",
              "</div>\n",
              "      <button class=\"colab-df-convert\" onclick=\"convertToInteractive('df-d5052603-73f5-4ca6-9aa7-bbbcc9ddf5ef')\"\n",
              "              title=\"Convert this dataframe to an interactive table.\"\n",
              "              style=\"display:none;\">\n",
              "        \n",
              "  <svg xmlns=\"http://www.w3.org/2000/svg\" height=\"24px\"viewBox=\"0 0 24 24\"\n",
              "       width=\"24px\">\n",
              "    <path d=\"M0 0h24v24H0V0z\" fill=\"none\"/>\n",
              "    <path d=\"M18.56 5.44l.94 2.06.94-2.06 2.06-.94-2.06-.94-.94-2.06-.94 2.06-2.06.94zm-11 1L8.5 8.5l.94-2.06 2.06-.94-2.06-.94L8.5 2.5l-.94 2.06-2.06.94zm10 10l.94 2.06.94-2.06 2.06-.94-2.06-.94-.94-2.06-.94 2.06-2.06.94z\"/><path d=\"M17.41 7.96l-1.37-1.37c-.4-.4-.92-.59-1.43-.59-.52 0-1.04.2-1.43.59L10.3 9.45l-7.72 7.72c-.78.78-.78 2.05 0 2.83L4 21.41c.39.39.9.59 1.41.59.51 0 1.02-.2 1.41-.59l7.78-7.78 2.81-2.81c.8-.78.8-2.07 0-2.86zM5.41 20L4 18.59l7.72-7.72 1.47 1.35L5.41 20z\"/>\n",
              "  </svg>\n",
              "      </button>\n",
              "      \n",
              "  <style>\n",
              "    .colab-df-container {\n",
              "      display:flex;\n",
              "      flex-wrap:wrap;\n",
              "      gap: 12px;\n",
              "    }\n",
              "\n",
              "    .colab-df-convert {\n",
              "      background-color: #E8F0FE;\n",
              "      border: none;\n",
              "      border-radius: 50%;\n",
              "      cursor: pointer;\n",
              "      display: none;\n",
              "      fill: #1967D2;\n",
              "      height: 32px;\n",
              "      padding: 0 0 0 0;\n",
              "      width: 32px;\n",
              "    }\n",
              "\n",
              "    .colab-df-convert:hover {\n",
              "      background-color: #E2EBFA;\n",
              "      box-shadow: 0px 1px 2px rgba(60, 64, 67, 0.3), 0px 1px 3px 1px rgba(60, 64, 67, 0.15);\n",
              "      fill: #174EA6;\n",
              "    }\n",
              "\n",
              "    [theme=dark] .colab-df-convert {\n",
              "      background-color: #3B4455;\n",
              "      fill: #D2E3FC;\n",
              "    }\n",
              "\n",
              "    [theme=dark] .colab-df-convert:hover {\n",
              "      background-color: #434B5C;\n",
              "      box-shadow: 0px 1px 3px 1px rgba(0, 0, 0, 0.15);\n",
              "      filter: drop-shadow(0px 1px 2px rgba(0, 0, 0, 0.3));\n",
              "      fill: #FFFFFF;\n",
              "    }\n",
              "  </style>\n",
              "\n",
              "      <script>\n",
              "        const buttonEl =\n",
              "          document.querySelector('#df-d5052603-73f5-4ca6-9aa7-bbbcc9ddf5ef button.colab-df-convert');\n",
              "        buttonEl.style.display =\n",
              "          google.colab.kernel.accessAllowed ? 'block' : 'none';\n",
              "\n",
              "        async function convertToInteractive(key) {\n",
              "          const element = document.querySelector('#df-d5052603-73f5-4ca6-9aa7-bbbcc9ddf5ef');\n",
              "          const dataTable =\n",
              "            await google.colab.kernel.invokeFunction('convertToInteractive',\n",
              "                                                     [key], {});\n",
              "          if (!dataTable) return;\n",
              "\n",
              "          const docLinkHtml = 'Like what you see? Visit the ' +\n",
              "            '<a target=\"_blank\" href=https://colab.research.google.com/notebooks/data_table.ipynb>data table notebook</a>'\n",
              "            + ' to learn more about interactive tables.';\n",
              "          element.innerHTML = '';\n",
              "          dataTable['output_type'] = 'display_data';\n",
              "          await google.colab.output.renderOutput(dataTable, element);\n",
              "          const docLink = document.createElement('div');\n",
              "          docLink.innerHTML = docLinkHtml;\n",
              "          element.appendChild(docLink);\n",
              "        }\n",
              "      </script>\n",
              "    </div>\n",
              "  </div>\n",
              "  "
            ]
          },
          "metadata": {},
          "execution_count": 6
        }
      ]
    },
    {
      "cell_type": "code",
      "source": [
        "names = dataframe.columns.values \n",
        "print(names)"
      ],
      "metadata": {
        "colab": {
          "base_uri": "https://localhost:8080/"
        },
        "id": "pB0mWfQXKfpE",
        "outputId": "74c937fb-8b9e-4460-fab4-935b7e458f9a"
      },
      "execution_count": 7,
      "outputs": [
        {
          "output_type": "stream",
          "name": "stdout",
          "text": [
            "['Age' 'Attrition' 'Department' 'DistanceFromHome' 'Education'\n",
            " 'EducationField' 'EnvironmentSatisfaction' 'JobSatisfaction'\n",
            " 'MaritalStatus' 'MonthlyIncome' 'NumCompaniesWorked' 'WorkLifeBalance'\n",
            " 'YearsAtCompany']\n"
          ]
        }
      ]
    },
    {
      "cell_type": "code",
      "source": [
        "# histogram for age\n",
        "plt.figure(figsize=(10,8))\n",
        "dataframe['Age'].hist(bins=70)\n",
        "plt.title(\"Age distribution of Employees\")\n",
        "plt.xlabel(\"Age\")\n",
        "plt.ylabel(\"# of Employees\")\n",
        "plt.show()"
      ],
      "metadata": {
        "colab": {
          "base_uri": "https://localhost:8080/",
          "height": 513
        },
        "id": "YOM6DcZdKtS1",
        "outputId": "b8793a2d-163b-4d7d-a3a8-30361008d595"
      },
      "execution_count": 8,
      "outputs": [
        {
          "output_type": "display_data",
          "data": {
            "text/plain": [
              "<Figure size 720x576 with 1 Axes>"
            ],
            "image/png": "[encoded data removed]"
          },
          "metadata": {
            "needs_background": "light"
          }
        }
      ]
    },
    {
      "cell_type": "code",
      "source": [
        "# explore data for Attrition by Age\n",
        "plt.figure(figsize=(14,10))\n",
        "plt.scatter(dataframe.Attrition,dataframe.Age, alpha=.55)\n",
        "plt.title(\"Attrition by Age \")\n",
        "plt.ylabel(\"Age\")\n",
        "plt.grid(b=True, which='major',axis='y')\n",
        "plt.show()"
      ],
      "metadata": {
        "colab": {
          "base_uri": "https://localhost:8080/",
          "height": 607
        },
        "id": "NaL25vh-Kx4x",
        "outputId": "3184af90-d7f1-498d-e872-46a27eeb69a1"
      },
      "execution_count": 9,
      "outputs": [
        {
          "output_type": "display_data",
          "data": {
            "text/plain": [
              "<Figure size 1008x720 with 1 Axes>"
            ],
            "image/png": "[encoded data removed]"
          },
          "metadata": {
            "needs_background": "light"
          }
        }
      ]
    },
    {
      "cell_type": "code",
      "source": [
        "# explore data for Left employees breakdown\n",
        "plt.figure(figsize=(8,6))\n",
        "dataframe.Attrition.value_counts().plot(kind='barh',color='blue',alpha=.65)\n",
        "plt.title(\"Attrition breakdown \")\n",
        "plt.show()"
      ],
      "metadata": {
        "colab": {
          "base_uri": "https://localhost:8080/",
          "height": 390
        },
        "id": "stRQuPAKLAfD",
        "outputId": "a517c63f-c21a-4fc9-93d1-4e3a354524df"
      },
      "execution_count": 10,
      "outputs": [
        {
          "output_type": "display_data",
          "data": {
            "text/plain": [
              "<Figure size 576x432 with 1 Axes>"
            ],
            "image/png": "[encoded data removed]"
          },
          "metadata": {
            "needs_background": "light"
          }
        }
      ]
    },
    {
      "cell_type": "code",
      "source": [
        "# explore data for Education Field distribution\n",
        "plt.figure(figsize=(10,8))\n",
        "dataframe.EducationField.value_counts().plot(kind='barh',color='g',alpha=.65)\n",
        "plt.title(\"Education Field Distribution\")\n",
        "plt.show()"
      ],
      "metadata": {
        "colab": {
          "base_uri": "https://localhost:8080/",
          "height": 499
        },
        "id": "0mcIZVLJLEli",
        "outputId": "65afbce5-85dc-4586-facf-8581c772be15"
      },
      "execution_count": 11,
      "outputs": [
        {
          "output_type": "display_data",
          "data": {
            "text/plain": [
              "<Figure size 720x576 with 1 Axes>"
            ],
            "image/png": "[encoded data removed]"
          },
          "metadata": {
            "needs_background": "light"
          }
        }
      ]
    },
    {
      "cell_type": "code",
      "source": [
        "# explore data for Marital Status\n",
        "plt.figure(figsize=(8,6))\n",
        "dataframe.MaritalStatus.value_counts().plot(kind='bar',alpha=.5)\n",
        "plt.show()"
      ],
      "metadata": {
        "colab": {
          "base_uri": "https://localhost:8080/",
          "height": 409
        },
        "id": "yIv7mBFtLLB0",
        "outputId": "2de8f73f-b7cc-453d-9b8f-47ebb5aaca63"
      },
      "execution_count": 12,
      "outputs": [
        {
          "output_type": "display_data",
          "data": {
            "text/plain": [
              "<Figure size 576x432 with 1 Axes>"
            ],
            "image/png": "[encoded data removed]"
          },
          "metadata": {
            "needs_background": "light"
          }
        }
      ]
    },
    {
      "cell_type": "code",
      "source": [
        "dataframe.describe()"
      ],
      "metadata": {
        "colab": {
          "base_uri": "https://localhost:8080/",
          "height": 300
        },
        "id": "OcymyGryLQCx",
        "outputId": "d5074e94-f366-4ce9-f983-ed91164afcea"
      },
      "execution_count": 13,
      "outputs": [
        {
          "output_type": "execute_result",
          "data": {
            "text/plain": [
              "               Age  DistanceFromHome    Education  EnvironmentSatisfaction  \\\n",
              "count  1470.000000       1470.000000  1470.000000              1470.000000   \n",
              "mean     36.923810          9.192517     2.912925                 2.721769   \n",
              "std       9.135373          8.106864     1.024165                 1.093082   \n",
              "min      18.000000          1.000000     1.000000                 1.000000   \n",
              "25%      30.000000          2.000000     2.000000                 2.000000   \n",
              "50%      36.000000          7.000000     3.000000                 3.000000   \n",
              "75%      43.000000         14.000000     4.000000                 4.000000   \n",
              "max      60.000000         29.000000     5.000000                 4.000000   \n",
              "\n",
              "       JobSatisfaction  MonthlyIncome  NumCompaniesWorked  WorkLifeBalance  \\\n",
              "count      1470.000000    1470.000000         1470.000000      1470.000000   \n",
              "mean          2.728571    6502.931293            2.693197         2.761224   \n",
              "std           1.102846    4707.956783            2.498009         0.706476   \n",
              "min           1.000000    1009.000000            0.000000         1.000000   \n",
              "25%           2.000000    2911.000000            1.000000         2.000000   \n",
              "50%           3.000000    4919.000000            2.000000         3.000000   \n",
              "75%           4.000000    8379.000000            4.000000         3.000000   \n",
              "max           4.000000   19999.000000            9.000000         4.000000   \n",
              "\n",
              "       YearsAtCompany  \n",
              "count     1470.000000  \n",
              "mean         7.008163  \n",
              "std          6.126525  \n",
              "min          0.000000  \n",
              "25%          3.000000  \n",
              "50%          5.000000  \n",
              "75%          9.000000  \n",
              "max         40.000000  "
            ],
            "text/html": [
              "\n",
              "  <div id=\"df-cb207b85-581c-4c6d-ae2b-7ba15b3aa183\">\n",
              "    <div class=\"colab-df-container\">\n",
              "      <div>\n",
              "<style scoped>\n",
              "    .dataframe tbody tr th:only-of-type {\n",
              "        vertical-align: middle;\n",
              "    }\n",
              "\n",
              "    .dataframe tbody tr th {\n",
              "        vertical-align: top;\n",
              "    }\n",
              "\n",
              "    .dataframe thead th {\n",
              "        text-align: right;\n",
              "    }\n",
              "</style>\n",
              "<table border=\"1\" class=\"dataframe\">\n",
              "  <thead>\n",
              "    <tr style=\"text-align: right;\">\n",
              "      <th></th>\n",
              "      <th>Age</th>\n",
              "      <th>DistanceFromHome</th>\n",
              "      <th>Education</th>\n",
              "      <th>EnvironmentSatisfaction</th>\n",
              "      <th>JobSatisfaction</th>\n",
              "      <th>MonthlyIncome</th>\n",
              "      <th>NumCompaniesWorked</th>\n",
              "      <th>WorkLifeBalance</th>\n",
              "      <th>YearsAtCompany</th>\n",
              "    </tr>\n",
              "  </thead>\n",
              "  <tbody>\n",
              "    <tr>\n",
              "      <th>count</th>\n",
              "      <td>1470.000000</td>\n",
              "      <td>1470.000000</td>\n",
              "      <td>1470.000000</td>\n",
              "      <td>1470.000000</td>\n",
              "      <td>1470.000000</td>\n",
              "      <td>1470.000000</td>\n",
              "      <td>1470.000000</td>\n",
              "      <td>1470.000000</td>\n",
              "      <td>1470.000000</td>\n",
              "    </tr>\n",
              "    <tr>\n",
              "      <th>mean</th>\n",
              "      <td>36.923810</td>\n",
              "      <td>9.192517</td>\n",
              "      <td>2.912925</td>\n",
              "      <td>2.721769</td>\n",
              "      <td>2.728571</td>\n",
              "      <td>6502.931293</td>\n",
              "      <td>2.693197</td>\n",
              "      <td>2.761224</td>\n",
              "      <td>7.008163</td>\n",
              "    </tr>\n",
              "    <tr>\n",
              "      <th>std</th>\n",
              "      <td>9.135373</td>\n",
              "      <td>8.106864</td>\n",
              "      <td>1.024165</td>\n",
              "      <td>1.093082</td>\n",
              "      <td>1.102846</td>\n",
              "      <td>4707.956783</td>\n",
              "      <td>2.498009</td>\n",
              "      <td>0.706476</td>\n",
              "      <td>6.126525</td>\n",
              "    </tr>\n",
              "    <tr>\n",
              "      <th>min</th>\n",
              "      <td>18.000000</td>\n",
              "      <td>1.000000</td>\n",
              "      <td>1.000000</td>\n",
              "      <td>1.000000</td>\n",
              "      <td>1.000000</td>\n",
              "      <td>1009.000000</td>\n",
              "      <td>0.000000</td>\n",
              "      <td>1.000000</td>\n",
              "      <td>0.000000</td>\n",
              "    </tr>\n",
              "    <tr>\n",
              "      <th>25%</th>\n",
              "      <td>30.000000</td>\n",
              "      <td>2.000000</td>\n",
              "      <td>2.000000</td>\n",
              "      <td>2.000000</td>\n",
              "      <td>2.000000</td>\n",
              "      <td>2911.000000</td>\n",
              "      <td>1.000000</td>\n",
              "      <td>2.000000</td>\n",
              "      <td>3.000000</td>\n",
              "    </tr>\n",
              "    <tr>\n",
              "      <th>50%</th>\n",
              "      <td>36.000000</td>\n",
              "      <td>7.000000</td>\n",
              "      <td>3.000000</td>\n",
              "      <td>3.000000</td>\n",
              "      <td>3.000000</td>\n",
              "      <td>4919.000000</td>\n",
              "      <td>2.000000</td>\n",
              "      <td>3.000000</td>\n",
              "      <td>5.000000</td>\n",
              "    </tr>\n",
              "    <tr>\n",
              "      <th>75%</th>\n",
              "      <td>43.000000</td>\n",
              "      <td>14.000000</td>\n",
              "      <td>4.000000</td>\n",
              "      <td>4.000000</td>\n",
              "      <td>4.000000</td>\n",
              "      <td>8379.000000</td>\n",
              "      <td>4.000000</td>\n",
              "      <td>3.000000</td>\n",
              "      <td>9.000000</td>\n",
              "    </tr>\n",
              "    <tr>\n",
              "      <th>max</th>\n",
              "      <td>60.000000</td>\n",
              "      <td>29.000000</td>\n",
              "      <td>5.000000</td>\n",
              "      <td>4.000000</td>\n",
              "      <td>4.000000</td>\n",
              "      <td>19999.000000</td>\n",
              "      <td>9.000000</td>\n",
              "      <td>4.000000</td>\n",
              "      <td>40.000000</td>\n",
              "    </tr>\n",
              "  </tbody>\n",
              "</table>\n",
              "</div>\n",
              "      <button class=\"colab-df-convert\" onclick=\"convertToInteractive('df-cb207b85-581c-4c6d-ae2b-7ba15b3aa183')\"\n",
              "              title=\"Convert this dataframe to an interactive table.\"\n",
              "              style=\"display:none;\">\n",
              "        \n",
              "  <svg xmlns=\"http://www.w3.org/2000/svg\" height=\"24px\"viewBox=\"0 0 24 24\"\n",
              "       width=\"24px\">\n",
              "    <path d=\"M0 0h24v24H0V0z\" fill=\"none\"/>\n",
              "    <path d=\"M18.56 5.44l.94 2.06.94-2.06 2.06-.94-2.06-.94-.94-2.06-.94 2.06-2.06.94zm-11 1L8.5 8.5l.94-2.06 2.06-.94-2.06-.94L8.5 2.5l-.94 2.06-2.06.94zm10 10l.94 2.06.94-2.06 2.06-.94-2.06-.94-.94-2.06-.94 2.06-2.06.94z\"/><path d=\"M17.41 7.96l-1.37-1.37c-.4-.4-.92-.59-1.43-.59-.52 0-1.04.2-1.43.59L10.3 9.45l-7.72 7.72c-.78.78-.78 2.05 0 2.83L4 21.41c.39.39.9.59 1.41.59.51 0 1.02-.2 1.41-.59l7.78-7.78 2.81-2.81c.8-.78.8-2.07 0-2.86zM5.41 20L4 18.59l7.72-7.72 1.47 1.35L5.41 20z\"/>\n",
              "  </svg>\n",
              "      </button>\n",
              "      \n",
              "  <style>\n",
              "    .colab-df-container {\n",
              "      display:flex;\n",
              "      flex-wrap:wrap;\n",
              "      gap: 12px;\n",
              "    }\n",
              "\n",
              "    .colab-df-convert {\n",
              "      background-color: #E8F0FE;\n",
              "      border: none;\n",
              "      border-radius: 50%;\n",
              "      cursor: pointer;\n",
              "      display: none;\n",
              "      fill: #1967D2;\n",
              "      height: 32px;\n",
              "      padding: 0 0 0 0;\n",
              "      width: 32px;\n",
              "    }\n",
              "\n",
              "    .colab-df-convert:hover {\n",
              "      background-color: #E2EBFA;\n",
              "      box-shadow: 0px 1px 2px rgba(60, 64, 67, 0.3), 0px 1px 3px 1px rgba(60, 64, 67, 0.15);\n",
              "      fill: #174EA6;\n",
              "    }\n",
              "\n",
              "    [theme=dark] .colab-df-convert {\n",
              "      background-color: #3B4455;\n",
              "      fill: #D2E3FC;\n",
              "    }\n",
              "\n",
              "    [theme=dark] .colab-df-convert:hover {\n",
              "      background-color: #434B5C;\n",
              "      box-shadow: 0px 1px 3px 1px rgba(0, 0, 0, 0.15);\n",
              "      filter: drop-shadow(0px 1px 2px rgba(0, 0, 0, 0.3));\n",
              "      fill: #FFFFFF;\n",
              "    }\n",
              "  </style>\n",
              "\n",
              "      <script>\n",
              "        const buttonEl =\n",
              "          document.querySelector('#df-cb207b85-581c-4c6d-ae2b-7ba15b3aa183 button.colab-df-convert');\n",
              "        buttonEl.style.display =\n",
              "          google.colab.kernel.accessAllowed ? 'block' : 'none';\n",
              "\n",
              "        async function convertToInteractive(key) {\n",
              "          const element = document.querySelector('#df-cb207b85-581c-4c6d-ae2b-7ba15b3aa183');\n",
              "          const dataTable =\n",
              "            await google.colab.kernel.invokeFunction('convertToInteractive',\n",
              "                                                     [key], {});\n",
              "          if (!dataTable) return;\n",
              "\n",
              "          const docLinkHtml = 'Like what you see? Visit the ' +\n",
              "            '<a target=\"_blank\" href=https://colab.research.google.com/notebooks/data_table.ipynb>data table notebook</a>'\n",
              "            + ' to learn more about interactive tables.';\n",
              "          element.innerHTML = '';\n",
              "          dataTable['output_type'] = 'display_data';\n",
              "          await google.colab.output.renderOutput(dataTable, element);\n",
              "          const docLink = document.createElement('div');\n",
              "          docLink.innerHTML = docLinkHtml;\n",
              "          element.appendChild(docLink);\n",
              "        }\n",
              "      </script>\n",
              "    </div>\n",
              "  </div>\n",
              "  "
            ]
          },
          "metadata": {},
          "execution_count": 13
        }
      ]
    },
    {
      "cell_type": "code",
      "source": [
        "dataframe.info()"
      ],
      "metadata": {
        "colab": {
          "base_uri": "https://localhost:8080/"
        },
        "id": "O3h1j_vQLdlf",
        "outputId": "4091dd78-a4fd-4cec-a6d0-b75f5955845b"
      },
      "execution_count": 14,
      "outputs": [
        {
          "output_type": "stream",
          "name": "stdout",
          "text": [
            "<class 'pandas.core.frame.DataFrame'>\n",
            "RangeIndex: 1470 entries, 0 to 1469\n",
            "Data columns (total 13 columns):\n",
            " #   Column                   Non-Null Count  Dtype \n",
            "---  ------                   --------------  ----- \n",
            " 0   Age                      1470 non-null   int64 \n",
            " 1   Attrition                1470 non-null   object\n",
            " 2   Department               1470 non-null   object\n",
            " 3   DistanceFromHome         1470 non-null   int64 \n",
            " 4   Education                1470 non-null   int64 \n",
            " 5   EducationField           1470 non-null   object\n",
            " 6   EnvironmentSatisfaction  1470 non-null   int64 \n",
            " 7   JobSatisfaction          1470 non-null   int64 \n",
            " 8   MaritalStatus            1470 non-null   object\n",
            " 9   MonthlyIncome            1470 non-null   int64 \n",
            " 10  NumCompaniesWorked       1470 non-null   int64 \n",
            " 11  WorkLifeBalance          1470 non-null   int64 \n",
            " 12  YearsAtCompany           1470 non-null   int64 \n",
            "dtypes: int64(9), object(4)\n",
            "memory usage: 149.4+ KB\n"
          ]
        }
      ]
    },
    {
      "cell_type": "code",
      "source": [
        "dataframe.columns"
      ],
      "metadata": {
        "colab": {
          "base_uri": "https://localhost:8080/"
        },
        "id": "99C7rd8SLmTn",
        "outputId": "aa35b94e-ef68-4be1-b7de-5767378fbcf1"
      },
      "execution_count": 15,
      "outputs": [
        {
          "output_type": "execute_result",
          "data": {
            "text/plain": [
              "Index(['Age', 'Attrition', 'Department', 'DistanceFromHome', 'Education',\n",
              "       'EducationField', 'EnvironmentSatisfaction', 'JobSatisfaction',\n",
              "       'MaritalStatus', 'MonthlyIncome', 'NumCompaniesWorked',\n",
              "       'WorkLifeBalance', 'YearsAtCompany'],\n",
              "      dtype='object')"
            ]
          },
          "metadata": {},
          "execution_count": 15
        }
      ]
    },
    {
      "cell_type": "code",
      "source": [
        "dataframe.std()"
      ],
      "metadata": {
        "colab": {
          "base_uri": "https://localhost:8080/"
        },
        "id": "cP3hmQTELoDr",
        "outputId": "b5b004d5-812b-4a7b-9919-229e2143e0bb"
      },
      "execution_count": 16,
      "outputs": [
        {
          "output_type": "stream",
          "name": "stderr",
          "text": [
            "<ipython-input-16-90bdd6cc73ba>:1: FutureWarning: Dropping of nuisance columns in DataFrame reductions (with 'numeric_only=None') is deprecated; in a future version this will raise TypeError.  Select only valid columns before calling the reduction.\n",
            "  dataframe.std()\n"
          ]
        },
        {
          "output_type": "execute_result",
          "data": {
            "text/plain": [
              "Age                           9.135373\n",
              "DistanceFromHome              8.106864\n",
              "Education                     1.024165\n",
              "EnvironmentSatisfaction       1.093082\n",
              "JobSatisfaction               1.102846\n",
              "MonthlyIncome              4707.956783\n",
              "NumCompaniesWorked            2.498009\n",
              "WorkLifeBalance               0.706476\n",
              "YearsAtCompany                6.126525\n",
              "dtype: float64"
            ]
          },
          "metadata": {},
          "execution_count": 16
        }
      ]
    },
    {
      "cell_type": "code",
      "source": [
        "dataframe['Attrition'].value_counts()"
      ],
      "metadata": {
        "colab": {
          "base_uri": "https://localhost:8080/"
        },
        "id": "oIeCF4VQLypp",
        "outputId": "7b285445-ad2f-4aa6-a6eb-84dfe6b86967"
      },
      "execution_count": 17,
      "outputs": [
        {
          "output_type": "execute_result",
          "data": {
            "text/plain": [
              "No     1233\n",
              "Yes     237\n",
              "Name: Attrition, dtype: int64"
            ]
          },
          "metadata": {},
          "execution_count": 17
        }
      ]
    },
    {
      "cell_type": "code",
      "source": [
        "dataframe['Attrition'].dtypes"
      ],
      "metadata": {
        "colab": {
          "base_uri": "https://localhost:8080/"
        },
        "id": "8kvXXGhtL50H",
        "outputId": "487e40fb-4c8d-4fff-8f11-2679d9d94c18"
      },
      "execution_count": 18,
      "outputs": [
        {
          "output_type": "execute_result",
          "data": {
            "text/plain": [
              "dtype('O')"
            ]
          },
          "metadata": {},
          "execution_count": 18
        }
      ]
    },
    {
      "cell_type": "code",
      "source": [
        "dataframe['Attrition'].replace('Yes',1, inplace=True)\n",
        "dataframe['Attrition'].replace('No',0, inplace=True)"
      ],
      "metadata": {
        "id": "X_VEG4QgL7Yy"
      },
      "execution_count": 19,
      "outputs": []
    },
    {
      "cell_type": "code",
      "source": [
        "dataframe.head(10)"
      ],
      "metadata": {
        "colab": {
          "base_uri": "https://localhost:8080/",
          "height": 583
        },
        "id": "tT7WbD4KL_Vb",
        "outputId": "3a8845d9-f54b-45bc-c9b8-619d7191c008"
      },
      "execution_count": 20,
      "outputs": [
        {
          "output_type": "execute_result",
          "data": {
            "text/plain": [
              "   Age  Attrition              Department  DistanceFromHome  Education  \\\n",
              "0   41          1                   Sales                 1          2   \n",
              "1   49          0  Research & Development                 8          1   \n",
              "2   37          1  Research & Development                 2          2   \n",
              "3   33          0  Research & Development                 3          4   \n",
              "4   27          0  Research & Development                 2          1   \n",
              "5   32          0  Research & Development                 2          2   \n",
              "6   59          0  Research & Development                 3          3   \n",
              "7   30          0  Research & Development                24          1   \n",
              "8   38          0  Research & Development                23          3   \n",
              "9   36          0  Research & Development                27          3   \n",
              "\n",
              "  EducationField  EnvironmentSatisfaction  JobSatisfaction MaritalStatus  \\\n",
              "0  Life Sciences                        2                4        Single   \n",
              "1  Life Sciences                        3                2       Married   \n",
              "2          Other                        4                3        Single   \n",
              "3  Life Sciences                        4                3       Married   \n",
              "4        Medical                        1                2       Married   \n",
              "5  Life Sciences                        4                4        Single   \n",
              "6        Medical                        3                1       Married   \n",
              "7  Life Sciences                        4                3      Divorced   \n",
              "8  Life Sciences                        4                3        Single   \n",
              "9        Medical                        3                3       Married   \n",
              "\n",
              "   MonthlyIncome  NumCompaniesWorked  WorkLifeBalance  YearsAtCompany  \n",
              "0           5993                   8                1               6  \n",
              "1           5130                   1                3              10  \n",
              "2           2090                   6                3               0  \n",
              "3           2909                   1                3               8  \n",
              "4           3468                   9                3               2  \n",
              "5           3068                   0                2               7  \n",
              "6           2670                   4                2               1  \n",
              "7           2693                   1                3               1  \n",
              "8           9526                   0                3               9  \n",
              "9           5237                   6                2               7  "
            ],
            "text/html": [
              "\n",
              "  <div id=\"df-cc4bba29-7b34-43ad-a36d-98c7962cb31d\">\n",
              "    <div class=\"colab-df-container\">\n",
              "      <div>\n",
              "<style scoped>\n",
              "    .dataframe tbody tr th:only-of-type {\n",
              "        vertical-align: middle;\n",
              "    }\n",
              "\n",
              "    .dataframe tbody tr th {\n",
              "        vertical-align: top;\n",
              "    }\n",
              "\n",
              "    .dataframe thead th {\n",
              "        text-align: right;\n",
              "    }\n",
              "</style>\n",
              "<table border=\"1\" class=\"dataframe\">\n",
              "  <thead>\n",
              "    <tr style=\"text-align: right;\">\n",
              "      <th></th>\n",
              "      <th>Age</th>\n",
              "      <th>Attrition</th>\n",
              "      <th>Department</th>\n",
              "      <th>DistanceFromHome</th>\n",
              "      <th>Education</th>\n",
              "      <th>EducationField</th>\n",
              "      <th>EnvironmentSatisfaction</th>\n",
              "      <th>JobSatisfaction</th>\n",
              "      <th>MaritalStatus</th>\n",
              "      <th>MonthlyIncome</th>\n",
              "      <th>NumCompaniesWorked</th>\n",
              "      <th>WorkLifeBalance</th>\n",
              "      <th>YearsAtCompany</th>\n",
              "    </tr>\n",
              "  </thead>\n",
              "  <tbody>\n",
              "    <tr>\n",
              "      <th>0</th>\n",
              "      <td>41</td>\n",
              "      <td>1</td>\n",
              "      <td>Sales</td>\n",
              "      <td>1</td>\n",
              "      <td>2</td>\n",
              "      <td>Life Sciences</td>\n",
              "      <td>2</td>\n",
              "      <td>4</td>\n",
              "      <td>Single</td>\n",
              "      <td>5993</td>\n",
              "      <td>8</td>\n",
              "      <td>1</td>\n",
              "      <td>6</td>\n",
              "    </tr>\n",
              "    <tr>\n",
              "      <th>1</th>\n",
              "      <td>49</td>\n",
              "      <td>0</td>\n",
              "      <td>Research &amp; Development</td>\n",
              "      <td>8</td>\n",
              "      <td>1</td>\n",
              "      <td>Life Sciences</td>\n",
              "      <td>3</td>\n",
              "      <td>2</td>\n",
              "      <td>Married</td>\n",
              "      <td>5130</td>\n",
              "      <td>1</td>\n",
              "      <td>3</td>\n",
              "      <td>10</td>\n",
              "    </tr>\n",
              "    <tr>\n",
              "      <th>2</th>\n",
              "      <td>37</td>\n",
              "      <td>1</td>\n",
              "      <td>Research &amp; Development</td>\n",
              "      <td>2</td>\n",
              "      <td>2</td>\n",
              "      <td>Other</td>\n",
              "      <td>4</td>\n",
              "      <td>3</td>\n",
              "      <td>Single</td>\n",
              "      <td>2090</td>\n",
              "      <td>6</td>\n",
              "      <td>3</td>\n",
              "      <td>0</td>\n",
              "    </tr>\n",
              "    <tr>\n",
              "      <th>3</th>\n",
              "      <td>33</td>\n",
              "      <td>0</td>\n",
              "      <td>Research &amp; Development</td>\n",
              "      <td>3</td>\n",
              "      <td>4</td>\n",
              "      <td>Life Sciences</td>\n",
              "      <td>4</td>\n",
              "      <td>3</td>\n",
              "      <td>Married</td>\n",
              "      <td>2909</td>\n",
              "      <td>1</td>\n",
              "      <td>3</td>\n",
              "      <td>8</td>\n",
              "    </tr>\n",
              "    <tr>\n",
              "      <th>4</th>\n",
              "      <td>27</td>\n",
              "      <td>0</td>\n",
              "      <td>Research &amp; Development</td>\n",
              "      <td>2</td>\n",
              "      <td>1</td>\n",
              "      <td>Medical</td>\n",
              "      <td>1</td>\n",
              "      <td>2</td>\n",
              "      <td>Married</td>\n",
              "      <td>3468</td>\n",
              "      <td>9</td>\n",
              "      <td>3</td>\n",
              "      <td>2</td>\n",
              "    </tr>\n",
              "    <tr>\n",
              "      <th>5</th>\n",
              "      <td>32</td>\n",
              "      <td>0</td>\n",
              "      <td>Research &amp; Development</td>\n",
              "      <td>2</td>\n",
              "      <td>2</td>\n",
              "      <td>Life Sciences</td>\n",
              "      <td>4</td>\n",
              "      <td>4</td>\n",
              "      <td>Single</td>\n",
              "      <td>3068</td>\n",
              "      <td>0</td>\n",
              "      <td>2</td>\n",
              "      <td>7</td>\n",
              "    </tr>\n",
              "    <tr>\n",
              "      <th>6</th>\n",
              "      <td>59</td>\n",
              "      <td>0</td>\n",
              "      <td>Research &amp; Development</td>\n",
              "      <td>3</td>\n",
              "      <td>3</td>\n",
              "      <td>Medical</td>\n",
              "      <td>3</td>\n",
              "      <td>1</td>\n",
              "      <td>Married</td>\n",
              "      <td>2670</td>\n",
              "      <td>4</td>\n",
              "      <td>2</td>\n",
              "      <td>1</td>\n",
              "    </tr>\n",
              "    <tr>\n",
              "      <th>7</th>\n",
              "      <td>30</td>\n",
              "      <td>0</td>\n",
              "      <td>Research &amp; Development</td>\n",
              "      <td>24</td>\n",
              "      <td>1</td>\n",
              "      <td>Life Sciences</td>\n",
              "      <td>4</td>\n",
              "      <td>3</td>\n",
              "      <td>Divorced</td>\n",
              "      <td>2693</td>\n",
              "      <td>1</td>\n",
              "      <td>3</td>\n",
              "      <td>1</td>\n",
              "    </tr>\n",
              "    <tr>\n",
              "      <th>8</th>\n",
              "      <td>38</td>\n",
              "      <td>0</td>\n",
              "      <td>Research &amp; Development</td>\n",
              "      <td>23</td>\n",
              "      <td>3</td>\n",
              "      <td>Life Sciences</td>\n",
              "      <td>4</td>\n",
              "      <td>3</td>\n",
              "      <td>Single</td>\n",
              "      <td>9526</td>\n",
              "      <td>0</td>\n",
              "      <td>3</td>\n",
              "      <td>9</td>\n",
              "    </tr>\n",
              "    <tr>\n",
              "      <th>9</th>\n",
              "      <td>36</td>\n",
              "      <td>0</td>\n",
              "      <td>Research &amp; Development</td>\n",
              "      <td>27</td>\n",
              "      <td>3</td>\n",
              "      <td>Medical</td>\n",
              "      <td>3</td>\n",
              "      <td>3</td>\n",
              "      <td>Married</td>\n",
              "      <td>5237</td>\n",
              "      <td>6</td>\n",
              "      <td>2</td>\n",
              "      <td>7</td>\n",
              "    </tr>\n",
              "  </tbody>\n",
              "</table>\n",
              "</div>\n",
              "      <button class=\"colab-df-convert\" onclick=\"convertToInteractive('df-cc4bba29-7b34-43ad-a36d-98c7962cb31d')\"\n",
              "              title=\"Convert this dataframe to an interactive table.\"\n",
              "              style=\"display:none;\">\n",
              "        \n",
              "  <svg xmlns=\"http://www.w3.org/2000/svg\" height=\"24px\"viewBox=\"0 0 24 24\"\n",
              "       width=\"24px\">\n",
              "    <path d=\"M0 0h24v24H0V0z\" fill=\"none\"/>\n",
              "    <path d=\"M18.56 5.44l.94 2.06.94-2.06 2.06-.94-2.06-.94-.94-2.06-.94 2.06-2.06.94zm-11 1L8.5 8.5l.94-2.06 2.06-.94-2.06-.94L8.5 2.5l-.94 2.06-2.06.94zm10 10l.94 2.06.94-2.06 2.06-.94-2.06-.94-.94-2.06-.94 2.06-2.06.94z\"/><path d=\"M17.41 7.96l-1.37-1.37c-.4-.4-.92-.59-1.43-.59-.52 0-1.04.2-1.43.59L10.3 9.45l-7.72 7.72c-.78.78-.78 2.05 0 2.83L4 21.41c.39.39.9.59 1.41.59.51 0 1.02-.2 1.41-.59l7.78-7.78 2.81-2.81c.8-.78.8-2.07 0-2.86zM5.41 20L4 18.59l7.72-7.72 1.47 1.35L5.41 20z\"/>\n",
              "  </svg>\n",
              "      </button>\n",
              "      \n",
              "  <style>\n",
              "    .colab-df-container {\n",
              "      display:flex;\n",
              "      flex-wrap:wrap;\n",
              "      gap: 12px;\n",
              "    }\n",
              "\n",
              "    .colab-df-convert {\n",
              "      background-color: #E8F0FE;\n",
              "      border: none;\n",
              "      border-radius: 50%;\n",
              "      cursor: pointer;\n",
              "      display: none;\n",
              "      fill: #1967D2;\n",
              "      height: 32px;\n",
              "      padding: 0 0 0 0;\n",
              "      width: 32px;\n",
              "    }\n",
              "\n",
              "    .colab-df-convert:hover {\n",
              "      background-color: #E2EBFA;\n",
              "      box-shadow: 0px 1px 2px rgba(60, 64, 67, 0.3), 0px 1px 3px 1px rgba(60, 64, 67, 0.15);\n",
              "      fill: #174EA6;\n",
              "    }\n",
              "\n",
              "    [theme=dark] .colab-df-convert {\n",
              "      background-color: #3B4455;\n",
              "      fill: #D2E3FC;\n",
              "    }\n",
              "\n",
              "    [theme=dark] .colab-df-convert:hover {\n",
              "      background-color: #434B5C;\n",
              "      box-shadow: 0px 1px 3px 1px rgba(0, 0, 0, 0.15);\n",
              "      filter: drop-shadow(0px 1px 2px rgba(0, 0, 0, 0.3));\n",
              "      fill: #FFFFFF;\n",
              "    }\n",
              "  </style>\n",
              "\n",
              "      <script>\n",
              "        const buttonEl =\n",
              "          document.querySelector('#df-cc4bba29-7b34-43ad-a36d-98c7962cb31d button.colab-df-convert');\n",
              "        buttonEl.style.display =\n",
              "          google.colab.kernel.accessAllowed ? 'block' : 'none';\n",
              "\n",
              "        async function convertToInteractive(key) {\n",
              "          const element = document.querySelector('#df-cc4bba29-7b34-43ad-a36d-98c7962cb31d');\n",
              "          const dataTable =\n",
              "            await google.colab.kernel.invokeFunction('convertToInteractive',\n",
              "                                                     [key], {});\n",
              "          if (!dataTable) return;\n",
              "\n",
              "          const docLinkHtml = 'Like what you see? Visit the ' +\n",
              "            '<a target=\"_blank\" href=https://colab.research.google.com/notebooks/data_table.ipynb>data table notebook</a>'\n",
              "            + ' to learn more about interactive tables.';\n",
              "          element.innerHTML = '';\n",
              "          dataTable['output_type'] = 'display_data';\n",
              "          await google.colab.output.renderOutput(dataTable, element);\n",
              "          const docLink = document.createElement('div');\n",
              "          docLink.innerHTML = docLinkHtml;\n",
              "          element.appendChild(docLink);\n",
              "        }\n",
              "      </script>\n",
              "    </div>\n",
              "  </div>\n",
              "  "
            ]
          },
          "metadata": {},
          "execution_count": 20
        }
      ]
    },
    {
      "cell_type": "code",
      "source": [
        "dataframe['EducationField'].replace('Life Sciences',1, inplace=True)\n",
        "dataframe['EducationField'].replace('Medical',2, inplace=True)\n",
        "dataframe['EducationField'].replace('Marketing', 3, inplace=True)\n",
        "dataframe['EducationField'].replace('Other',4, inplace=True)\n",
        "dataframe['EducationField'].replace('Technical Degree',5, inplace=True)\n",
        "dataframe['EducationField'].replace('Human Resources', 6, inplace=True)"
      ],
      "metadata": {
        "id": "YO4HF_OjMDON"
      },
      "execution_count": 21,
      "outputs": []
    },
    {
      "cell_type": "code",
      "source": [
        "dataframe['EducationField'].value_counts()"
      ],
      "metadata": {
        "colab": {
          "base_uri": "https://localhost:8080/"
        },
        "id": "EiSvN3DvMMuZ",
        "outputId": "26ad85e1-064d-4fdc-d1d3-aa96f1fa1283"
      },
      "execution_count": 22,
      "outputs": [
        {
          "output_type": "execute_result",
          "data": {
            "text/plain": [
              "1    606\n",
              "2    464\n",
              "3    159\n",
              "5    132\n",
              "4     82\n",
              "6     27\n",
              "Name: EducationField, dtype: int64"
            ]
          },
          "metadata": {},
          "execution_count": 22
        }
      ]
    },
    {
      "cell_type": "code",
      "source": [
        "dataframe['Department'].value_counts()"
      ],
      "metadata": {
        "colab": {
          "base_uri": "https://localhost:8080/"
        },
        "id": "9QPxbVmlMQ0r",
        "outputId": "27511c22-abf8-4b72-dc7d-409f80314eb2"
      },
      "execution_count": 23,
      "outputs": [
        {
          "output_type": "execute_result",
          "data": {
            "text/plain": [
              "Research & Development    961\n",
              "Sales                     446\n",
              "Human Resources            63\n",
              "Name: Department, dtype: int64"
            ]
          },
          "metadata": {},
          "execution_count": 23
        }
      ]
    },
    {
      "cell_type": "code",
      "source": [
        "dataframe['Department'].replace('Research & Development',1, inplace=True)\n",
        "dataframe['Department'].replace('Sales',2, inplace=True)\n",
        "dataframe['Department'].replace('Human Resources', 3, inplace=True)"
      ],
      "metadata": {
        "id": "KcJracViMan-"
      },
      "execution_count": 24,
      "outputs": []
    },
    {
      "cell_type": "code",
      "source": [
        "dataframe['MaritalStatus'].value_counts()"
      ],
      "metadata": {
        "colab": {
          "base_uri": "https://localhost:8080/"
        },
        "id": "alOT6TjVMfM5",
        "outputId": "a7714735-e764-4637-9718-1606bb4b2388"
      },
      "execution_count": 25,
      "outputs": [
        {
          "output_type": "execute_result",
          "data": {
            "text/plain": [
              "Married     673\n",
              "Single      470\n",
              "Divorced    327\n",
              "Name: MaritalStatus, dtype: int64"
            ]
          },
          "metadata": {},
          "execution_count": 25
        }
      ]
    },
    {
      "cell_type": "code",
      "source": [
        "x=dataframe.select_dtypes(include=['int64'])\n",
        "x.dtypes"
      ],
      "metadata": {
        "colab": {
          "base_uri": "https://localhost:8080/"
        },
        "id": "-9XA-uiPMzwq",
        "outputId": "4955175e-2cf4-45b5-c3e7-8aab67b6a697"
      },
      "execution_count": 26,
      "outputs": [
        {
          "output_type": "execute_result",
          "data": {
            "text/plain": [
              "Age                        int64\n",
              "Attrition                  int64\n",
              "Department                 int64\n",
              "DistanceFromHome           int64\n",
              "Education                  int64\n",
              "EducationField             int64\n",
              "EnvironmentSatisfaction    int64\n",
              "JobSatisfaction            int64\n",
              "MonthlyIncome              int64\n",
              "NumCompaniesWorked         int64\n",
              "WorkLifeBalance            int64\n",
              "YearsAtCompany             int64\n",
              "dtype: object"
            ]
          },
          "metadata": {},
          "execution_count": 26
        }
      ]
    },
    {
      "cell_type": "code",
      "source": [
        "x.columns"
      ],
      "metadata": {
        "colab": {
          "base_uri": "https://localhost:8080/"
        },
        "id": "qtswiJGXM5Wp",
        "outputId": "27fc1d7e-a137-4849-d791-a7ba260a8fb9"
      },
      "execution_count": 27,
      "outputs": [
        {
          "output_type": "execute_result",
          "data": {
            "text/plain": [
              "Index(['Age', 'Attrition', 'Department', 'DistanceFromHome', 'Education',\n",
              "       'EducationField', 'EnvironmentSatisfaction', 'JobSatisfaction',\n",
              "       'MonthlyIncome', 'NumCompaniesWorked', 'WorkLifeBalance',\n",
              "       'YearsAtCompany'],\n",
              "      dtype='object')"
            ]
          },
          "metadata": {},
          "execution_count": 27
        }
      ]
    },
    {
      "cell_type": "code",
      "source": [
        "y=dataframe['Attrition']"
      ],
      "metadata": {
        "id": "cvVpWQXDM8NV"
      },
      "execution_count": 28,
      "outputs": []
    },
    {
      "cell_type": "code",
      "source": [
        "y.head()"
      ],
      "metadata": {
        "colab": {
          "base_uri": "https://localhost:8080/"
        },
        "id": "8fdoeW__M_fU",
        "outputId": "ffffd9ec-13dc-4f07-fe32-da5ef3cb85bb"
      },
      "execution_count": 29,
      "outputs": [
        {
          "output_type": "execute_result",
          "data": {
            "text/plain": [
              "0    1\n",
              "1    0\n",
              "2    1\n",
              "3    0\n",
              "4    0\n",
              "Name: Attrition, dtype: int64"
            ]
          },
          "metadata": {},
          "execution_count": 29
        }
      ]
    },
    {
      "cell_type": "code",
      "source": [
        "y, x = dmatrices('Attrition ~ Age + Department + \\\n",
        "                  DistanceFromHome + Education + EducationField + YearsAtCompany',\n",
        "                  dataframe, return_type=\"dataframe\")\n",
        "print (x.columns)"
      ],
      "metadata": {
        "colab": {
          "base_uri": "https://localhost:8080/"
        },
        "id": "iYviD0sFNCjk",
        "outputId": "59d9e224-e74a-46eb-bd33-4759fb009b84"
      },
      "execution_count": 30,
      "outputs": [
        {
          "output_type": "stream",
          "name": "stdout",
          "text": [
            "Index(['Intercept', 'Age', 'Department', 'DistanceFromHome', 'Education',\n",
            "       'EducationField', 'YearsAtCompany'],\n",
            "      dtype='object')\n"
          ]
        }
      ]
    },
    {
      "cell_type": "code",
      "source": [
        "y = np.ravel(y)"
      ],
      "metadata": {
        "id": "BaGn13aGNIE4"
      },
      "execution_count": 31,
      "outputs": []
    },
    {
      "cell_type": "code",
      "source": [
        "from sklearn.linear_model import LogisticRegression\n",
        "\n",
        "model = LogisticRegression()\n",
        "model = model.fit(x, y)\n",
        "\n",
        "# check the accuracy on the training set\n",
        "model.score(x, y)"
      ],
      "metadata": {
        "colab": {
          "base_uri": "https://localhost:8080/"
        },
        "id": "4VCTL-hVNM2o",
        "outputId": "aef18cbe-eb44-44f3-8ad4-b32c961b053c"
      },
      "execution_count": 32,
      "outputs": [
        {
          "output_type": "execute_result",
          "data": {
            "text/plain": [
              "0.8408163265306122"
            ]
          },
          "metadata": {},
          "execution_count": 32
        }
      ]
    },
    {
      "cell_type": "code",
      "source": [
        "y.mean()"
      ],
      "metadata": {
        "colab": {
          "base_uri": "https://localhost:8080/"
        },
        "id": "Vnup6nbhNQPf",
        "outputId": "f9daff04-e95e-42a8-c005-863950bc3519"
      },
      "execution_count": 33,
      "outputs": [
        {
          "output_type": "execute_result",
          "data": {
            "text/plain": [
              "0.16122448979591836"
            ]
          },
          "metadata": {},
          "execution_count": 33
        }
      ]
    },
    {
      "cell_type": "code",
      "source": [
        "import sklearn.model_selection\n",
        "X_train,X_test,y_train,y_test=sklearn.model_selection.train_test_split(x,y, test_size=0.3, random_state=0)\n",
        "model2=LogisticRegression()\n",
        "model2.fit(X_train, y_train)"
      ],
      "metadata": {
        "colab": {
          "base_uri": "https://localhost:8080/"
        },
        "id": "MlQx9ByRNTtr",
        "outputId": "9fd5b2eb-c6f6-4ca1-b342-69f4cc870db9"
      },
      "execution_count": 34,
      "outputs": [
        {
          "output_type": "execute_result",
          "data": {
            "text/plain": [
              "LogisticRegression()"
            ]
          },
          "metadata": {},
          "execution_count": 34
        }
      ]
    },
    {
      "cell_type": "code",
      "source": [
        "predicted= model2.predict(X_test)\n",
        "print (predicted)"
      ],
      "metadata": {
        "colab": {
          "base_uri": "https://localhost:8080/"
        },
        "id": "BQ-wNpP7NWmx",
        "outputId": "3bb851f8-7ebd-4fc0-b216-632c4f81b0b2"
      },
      "execution_count": 35,
      "outputs": [
        {
          "output_type": "stream",
          "name": "stdout",
          "text": [
            "[0. 0. 0. 0. 0. 0. 0. 0. 0. 0. 0. 0. 0. 0. 0. 0. 0. 0. 0. 0. 0. 0. 0. 0.\n",
            " 0. 0. 0. 0. 0. 0. 0. 0. 0. 0. 0. 0. 0. 0. 0. 0. 0. 0. 0. 0. 0. 0. 0. 0.\n",
            " 0. 0. 0. 0. 0. 0. 0. 0. 0. 0. 0. 0. 0. 0. 0. 0. 0. 0. 0. 0. 0. 0. 0. 0.\n",
            " 0. 0. 0. 0. 0. 0. 0. 0. 0. 0. 0. 0. 0. 0. 0. 0. 0. 0. 0. 0. 0. 0. 0. 0.\n",
            " 0. 0. 0. 0. 0. 0. 0. 0. 0. 0. 0. 0. 0. 0. 0. 0. 0. 0. 0. 0. 0. 0. 0. 0.\n",
            " 0. 0. 0. 0. 0. 0. 0. 0. 0. 0. 0. 0. 0. 0. 0. 0. 0. 0. 0. 0. 0. 0. 0. 0.\n",
            " 0. 0. 0. 0. 0. 0. 0. 0. 0. 0. 0. 0. 0. 0. 0. 0. 0. 0. 0. 0. 0. 0. 0. 0.\n",
            " 0. 0. 0. 0. 0. 0. 0. 0. 0. 0. 0. 0. 0. 0. 0. 0. 0. 0. 0. 0. 0. 0. 0. 0.\n",
            " 0. 0. 0. 0. 0. 0. 0. 0. 0. 0. 0. 0. 0. 0. 0. 0. 0. 0. 0. 0. 0. 0. 0. 0.\n",
            " 0. 0. 0. 0. 0. 0. 0. 0. 0. 0. 0. 0. 0. 0. 0. 0. 0. 0. 0. 0. 0. 0. 0. 0.\n",
            " 0. 0. 0. 0. 0. 0. 0. 0. 0. 0. 0. 0. 0. 0. 0. 0. 0. 0. 0. 0. 0. 0. 0. 0.\n",
            " 0. 0. 0. 0. 0. 0. 0. 0. 0. 0. 0. 0. 0. 0. 0. 0. 0. 0. 0. 0. 0. 0. 0. 0.\n",
            " 0. 0. 0. 0. 0. 0. 0. 0. 0. 0. 0. 0. 0. 0. 0. 0. 0. 0. 0. 0. 0. 0. 0. 0.\n",
            " 0. 0. 0. 0. 0. 0. 0. 0. 1. 0. 0. 0. 0. 0. 0. 0. 0. 0. 0. 0. 0. 0. 0. 0.\n",
            " 0. 0. 0. 0. 0. 0. 0. 0. 0. 0. 0. 0. 0. 0. 0. 0. 0. 0. 0. 0. 0. 0. 0. 0.\n",
            " 0. 0. 0. 0. 0. 0. 0. 0. 0. 0. 0. 0. 0. 0. 0. 0. 0. 0. 0. 0. 0. 0. 0. 0.\n",
            " 0. 0. 0. 0. 0. 0. 0. 0. 0. 0. 0. 0. 0. 0. 0. 0. 0. 0. 0. 0. 0. 0. 0. 0.\n",
            " 0. 0. 0. 0. 0. 0. 0. 0. 0. 0. 0. 0. 0. 0. 0. 0. 0. 0. 0. 0. 0. 0. 0. 0.\n",
            " 0. 0. 0. 0. 0. 0. 0. 0. 0.]\n"
          ]
        }
      ]
    },
    {
      "cell_type": "code",
      "source": [
        "probs = model2.predict_proba(X_test)\n",
        "print (probs)"
      ],
      "metadata": {
        "colab": {
          "base_uri": "https://localhost:8080/"
        },
        "id": "ylppeeHhNysI",
        "outputId": "5bf27aef-b95e-4a00-ade3-58db0fecd7eb"
      },
      "execution_count": 36,
      "outputs": [
        {
          "output_type": "stream",
          "name": "stdout",
          "text": [
            "[[0.86179629 0.13820371]\n",
            " [0.80754595 0.19245405]\n",
            " [0.74123953 0.25876047]\n",
            " [0.83441331 0.16558669]\n",
            " [0.73499944 0.26500056]\n",
            " [0.7909775  0.2090225 ]\n",
            " [0.85615202 0.14384798]\n",
            " [0.85699674 0.14300326]\n",
            " [0.96699053 0.03300947]\n",
            " [0.93685203 0.06314797]\n",
            " [0.95099268 0.04900732]\n",
            " [0.83101544 0.16898456]\n",
            " [0.86296552 0.13703448]\n",
            " [0.86581192 0.13418808]\n",
            " [0.88750595 0.11249405]\n",
            " [0.88892618 0.11107382]\n",
            " [0.88569719 0.11430281]\n",
            " [0.78516588 0.21483412]\n",
            " [0.79794491 0.20205509]\n",
            " [0.88511296 0.11488704]\n",
            " [0.7065161  0.2934839 ]\n",
            " [0.94676686 0.05323314]\n",
            " [0.86736256 0.13263744]\n",
            " [0.84276457 0.15723543]\n",
            " [0.60336877 0.39663123]\n",
            " [0.81129201 0.18870799]\n",
            " [0.91813724 0.08186276]\n",
            " [0.93285519 0.06714481]\n",
            " [0.68230779 0.31769221]\n",
            " [0.87027131 0.12972869]\n",
            " [0.87266382 0.12733618]\n",
            " [0.76968745 0.23031255]\n",
            " [0.8643576  0.1356424 ]\n",
            " [0.95758874 0.04241126]\n",
            " [0.84461482 0.15538518]\n",
            " [0.86719352 0.13280648]\n",
            " [0.90465972 0.09534028]\n",
            " [0.68936434 0.31063566]\n",
            " [0.90703612 0.09296388]\n",
            " [0.80663482 0.19336518]\n",
            " [0.91515717 0.08484283]\n",
            " [0.82351284 0.17648716]\n",
            " [0.9371151  0.0628849 ]\n",
            " [0.93411323 0.06588677]\n",
            " [0.8944765  0.1055235 ]\n",
            " [0.85317746 0.14682254]\n",
            " [0.78922388 0.21077612]\n",
            " [0.84879886 0.15120114]\n",
            " [0.66402477 0.33597523]\n",
            " [0.76252307 0.23747693]\n",
            " [0.92851104 0.07148896]\n",
            " [0.78953699 0.21046301]\n",
            " [0.86166599 0.13833401]\n",
            " [0.85837893 0.14162107]\n",
            " [0.87217672 0.12782328]\n",
            " [0.78950903 0.21049097]\n",
            " [0.87690789 0.12309211]\n",
            " [0.84165441 0.15834559]\n",
            " [0.72847174 0.27152826]\n",
            " [0.83181416 0.16818584]\n",
            " [0.90095039 0.09904961]\n",
            " [0.71077346 0.28922654]\n",
            " [0.92823016 0.07176984]\n",
            " [0.84375685 0.15624315]\n",
            " [0.79544113 0.20455887]\n",
            " [0.86826151 0.13173849]\n",
            " [0.91679449 0.08320551]\n",
            " [0.84763055 0.15236945]\n",
            " [0.89253706 0.10746294]\n",
            " [0.62872154 0.37127846]\n",
            " [0.93875384 0.06124616]\n",
            " [0.72620344 0.27379656]\n",
            " [0.85652973 0.14347027]\n",
            " [0.84226021 0.15773979]\n",
            " [0.77436405 0.22563595]\n",
            " [0.7189956  0.2810044 ]\n",
            " [0.9358738  0.0641262 ]\n",
            " [0.95710064 0.04289936]\n",
            " [0.79185854 0.20814146]\n",
            " [0.89370435 0.10629565]\n",
            " [0.91382033 0.08617967]\n",
            " [0.79354592 0.20645408]\n",
            " [0.77934031 0.22065969]\n",
            " [0.79639011 0.20360989]\n",
            " [0.83800491 0.16199509]\n",
            " [0.71395684 0.28604316]\n",
            " [0.97772711 0.02227289]\n",
            " [0.94645966 0.05354034]\n",
            " [0.88617621 0.11382379]\n",
            " [0.79620161 0.20379839]\n",
            " [0.6186386  0.3813614 ]\n",
            " [0.81866468 0.18133532]\n",
            " [0.74504146 0.25495854]\n",
            " [0.86779494 0.13220506]\n",
            " [0.87071138 0.12928862]\n",
            " [0.81717477 0.18282523]\n",
            " [0.71840763 0.28159237]\n",
            " [0.59825929 0.40174071]\n",
            " [0.83951543 0.16048457]\n",
            " [0.88351322 0.11648678]\n",
            " [0.74352599 0.25647401]\n",
            " [0.76631609 0.23368391]\n",
            " [0.98033033 0.01966967]\n",
            " [0.91857462 0.08142538]\n",
            " [0.77432841 0.22567159]\n",
            " [0.92514809 0.07485191]\n",
            " [0.88123383 0.11876617]\n",
            " [0.74587197 0.25412803]\n",
            " [0.90478359 0.09521641]\n",
            " [0.78685542 0.21314458]\n",
            " [0.8114777  0.1885223 ]\n",
            " [0.9347217  0.0652783 ]\n",
            " [0.93836497 0.06163503]\n",
            " [0.79411746 0.20588254]\n",
            " [0.81372906 0.18627094]\n",
            " [0.91610916 0.08389084]\n",
            " [0.90428339 0.09571661]\n",
            " [0.84669428 0.15330572]\n",
            " [0.95384544 0.04615456]\n",
            " [0.91283688 0.08716312]\n",
            " [0.85919596 0.14080404]\n",
            " [0.85902503 0.14097497]\n",
            " [0.8751952  0.1248048 ]\n",
            " [0.76114677 0.23885323]\n",
            " [0.92217681 0.07782319]\n",
            " [0.96859405 0.03140595]\n",
            " [0.94398211 0.05601789]\n",
            " [0.81780298 0.18219702]\n",
            " [0.880587   0.119413  ]\n",
            " [0.77894279 0.22105721]\n",
            " [0.9712446  0.0287554 ]\n",
            " [0.8880766  0.1119234 ]\n",
            " [0.78715259 0.21284741]\n",
            " [0.82001485 0.17998515]\n",
            " [0.94934537 0.05065463]\n",
            " [0.95888928 0.04111072]\n",
            " [0.73559241 0.26440759]\n",
            " [0.93416988 0.06583012]\n",
            " [0.73750655 0.26249345]\n",
            " [0.82136758 0.17863242]\n",
            " [0.82171199 0.17828801]\n",
            " [0.89896702 0.10103298]\n",
            " [0.78745758 0.21254242]\n",
            " [0.89825343 0.10174657]\n",
            " [0.91433812 0.08566188]\n",
            " [0.92724743 0.07275257]\n",
            " [0.96594961 0.03405039]\n",
            " [0.94417357 0.05582643]\n",
            " [0.93073077 0.06926923]\n",
            " [0.66320605 0.33679395]\n",
            " [0.84168655 0.15831345]\n",
            " [0.8263682  0.1736318 ]\n",
            " [0.80616642 0.19383358]\n",
            " [0.96157629 0.03842371]\n",
            " [0.93515158 0.06484842]\n",
            " [0.94778617 0.05221383]\n",
            " [0.97337821 0.02662179]\n",
            " [0.79297069 0.20702931]\n",
            " [0.87770191 0.12229809]\n",
            " [0.86103662 0.13896338]\n",
            " [0.95185475 0.04814525]\n",
            " [0.93131494 0.06868506]\n",
            " [0.75685368 0.24314632]\n",
            " [0.74997812 0.25002188]\n",
            " [0.95527861 0.04472139]\n",
            " [0.86950715 0.13049285]\n",
            " [0.81376773 0.18623227]\n",
            " [0.76990618 0.23009382]\n",
            " [0.80077918 0.19922082]\n",
            " [0.92801116 0.07198884]\n",
            " [0.90949241 0.09050759]\n",
            " [0.9455762  0.0544238 ]\n",
            " [0.9333046  0.0666954 ]\n",
            " [0.69145931 0.30854069]\n",
            " [0.93056874 0.06943126]\n",
            " [0.74525441 0.25474559]\n",
            " [0.78594351 0.21405649]\n",
            " [0.93308596 0.06691404]\n",
            " [0.80878288 0.19121712]\n",
            " [0.85096456 0.14903544]\n",
            " [0.66956296 0.33043704]\n",
            " [0.90338378 0.09661622]\n",
            " [0.91158926 0.08841074]\n",
            " [0.87300498 0.12699502]\n",
            " [0.9293905  0.0706095 ]\n",
            " [0.66661749 0.33338251]\n",
            " [0.89098509 0.10901491]\n",
            " [0.86216711 0.13783289]\n",
            " [0.78838554 0.21161446]\n",
            " [0.53099656 0.46900344]\n",
            " [0.73344338 0.26655662]\n",
            " [0.7105399  0.2894601 ]\n",
            " [0.85530488 0.14469512]\n",
            " [0.86960598 0.13039402]\n",
            " [0.75470009 0.24529991]\n",
            " [0.89823508 0.10176492]\n",
            " [0.79247848 0.20752152]\n",
            " [0.9064313  0.0935687 ]\n",
            " [0.77650779 0.22349221]\n",
            " [0.88387786 0.11612214]\n",
            " [0.85404311 0.14595689]\n",
            " [0.81899373 0.18100627]\n",
            " [0.74448534 0.25551466]\n",
            " [0.86259436 0.13740564]\n",
            " [0.77822628 0.22177372]\n",
            " [0.7692833  0.2307167 ]\n",
            " [0.79679233 0.20320767]\n",
            " [0.92096589 0.07903411]\n",
            " [0.7457378  0.2542622 ]\n",
            " [0.87499222 0.12500778]\n",
            " [0.85503287 0.14496713]\n",
            " [0.77292169 0.22707831]\n",
            " [0.87227275 0.12772725]\n",
            " [0.67395375 0.32604625]\n",
            " [0.93621658 0.06378342]\n",
            " [0.82479478 0.17520522]\n",
            " [0.95146042 0.04853958]\n",
            " [0.83462453 0.16537547]\n",
            " [0.81106472 0.18893528]\n",
            " [0.80828264 0.19171736]\n",
            " [0.87664148 0.12335852]\n",
            " [0.66787006 0.33212994]\n",
            " [0.59616865 0.40383135]\n",
            " [0.98979361 0.01020639]\n",
            " [0.70634411 0.29365589]\n",
            " [0.91633081 0.08366919]\n",
            " [0.92133469 0.07866531]\n",
            " [0.71383912 0.28616088]\n",
            " [0.62453978 0.37546022]\n",
            " [0.76440583 0.23559417]\n",
            " [0.95401647 0.04598353]\n",
            " [0.88186721 0.11813279]\n",
            " [0.86019896 0.13980104]\n",
            " [0.92117376 0.07882624]\n",
            " [0.88019164 0.11980836]\n",
            " [0.80451441 0.19548559]\n",
            " [0.80585187 0.19414813]\n",
            " [0.91345485 0.08654515]\n",
            " [0.72101817 0.27898183]\n",
            " [0.94507997 0.05492003]\n",
            " [0.909069   0.090931  ]\n",
            " [0.73381761 0.26618239]\n",
            " [0.98109182 0.01890818]\n",
            " [0.85490452 0.14509548]\n",
            " [0.89817063 0.10182937]\n",
            " [0.82436994 0.17563006]\n",
            " [0.83387094 0.16612906]\n",
            " [0.88136637 0.11863363]\n",
            " [0.88031308 0.11968692]\n",
            " [0.87560622 0.12439378]\n",
            " [0.81617198 0.18382802]\n",
            " [0.88028843 0.11971157]\n",
            " [0.61530861 0.38469139]\n",
            " [0.88826151 0.11173849]\n",
            " [0.89692806 0.10307194]\n",
            " [0.85328926 0.14671074]\n",
            " [0.98297038 0.01702962]\n",
            " [0.77341249 0.22658751]\n",
            " [0.62184901 0.37815099]\n",
            " [0.82739137 0.17260863]\n",
            " [0.84083341 0.15916659]\n",
            " [0.84808614 0.15191386]\n",
            " [0.84937025 0.15062975]\n",
            " [0.75541011 0.24458989]\n",
            " [0.8618886  0.1381114 ]\n",
            " [0.90684683 0.09315317]\n",
            " [0.84663278 0.15336722]\n",
            " [0.81290911 0.18709089]\n",
            " [0.74053599 0.25946401]\n",
            " [0.87035275 0.12964725]\n",
            " [0.83938098 0.16061902]\n",
            " [0.86267952 0.13732048]\n",
            " [0.66362922 0.33637078]\n",
            " [0.90671715 0.09328285]\n",
            " [0.87056288 0.12943712]\n",
            " [0.92580785 0.07419215]\n",
            " [0.84386863 0.15613137]\n",
            " [0.89878142 0.10121858]\n",
            " [0.91239489 0.08760511]\n",
            " [0.79867641 0.20132359]\n",
            " [0.64052606 0.35947394]\n",
            " [0.84683946 0.15316054]\n",
            " [0.75503208 0.24496792]\n",
            " [0.85264547 0.14735453]\n",
            " [0.99251431 0.00748569]\n",
            " [0.86138211 0.13861789]\n",
            " [0.88140136 0.11859864]\n",
            " [0.82757088 0.17242912]\n",
            " [0.93027069 0.06972931]\n",
            " [0.87307445 0.12692555]\n",
            " [0.88802394 0.11197606]\n",
            " [0.8375333  0.1624667 ]\n",
            " [0.86481032 0.13518968]\n",
            " [0.86515545 0.13484455]\n",
            " [0.89754787 0.10245213]\n",
            " [0.78409074 0.21590926]\n",
            " [0.79165117 0.20834883]\n",
            " [0.88388127 0.11611873]\n",
            " [0.65418974 0.34581026]\n",
            " [0.94059372 0.05940628]\n",
            " [0.89913433 0.10086567]\n",
            " [0.72525631 0.27474369]\n",
            " [0.69085539 0.30914461]\n",
            " [0.87591629 0.12408371]\n",
            " [0.86562241 0.13437759]\n",
            " [0.97508873 0.02491127]\n",
            " [0.86265124 0.13734876]\n",
            " [0.54036104 0.45963896]\n",
            " [0.91302267 0.08697733]\n",
            " [0.74609602 0.25390398]\n",
            " [0.86758148 0.13241852]\n",
            " [0.88852758 0.11147242]\n",
            " [0.87911717 0.12088283]\n",
            " [0.85664966 0.14335034]\n",
            " [0.77281969 0.22718031]\n",
            " [0.80713974 0.19286026]\n",
            " [0.85285508 0.14714492]\n",
            " [0.77595542 0.22404458]\n",
            " [0.70409834 0.29590166]\n",
            " [0.88971657 0.11028343]\n",
            " [0.48963135 0.51036865]\n",
            " [0.92370643 0.07629357]\n",
            " [0.75572319 0.24427681]\n",
            " [0.6778889  0.3221111 ]\n",
            " [0.91301003 0.08698997]\n",
            " [0.94029211 0.05970789]\n",
            " [0.88009782 0.11990218]\n",
            " [0.8859116  0.1140884 ]\n",
            " [0.9565682  0.0434318 ]\n",
            " [0.89909419 0.10090581]\n",
            " [0.94784643 0.05215357]\n",
            " [0.83255781 0.16744219]\n",
            " [0.87822136 0.12177864]\n",
            " [0.81945807 0.18054193]\n",
            " [0.81668791 0.18331209]\n",
            " [0.95036163 0.04963837]\n",
            " [0.86940138 0.13059862]\n",
            " [0.90541592 0.09458408]\n",
            " [0.83661185 0.16338815]\n",
            " [0.84583656 0.15416344]\n",
            " [0.79307982 0.20692018]\n",
            " [0.81808127 0.18191873]\n",
            " [0.81598418 0.18401582]\n",
            " [0.83677564 0.16322436]\n",
            " [0.91443029 0.08556971]\n",
            " [0.91533086 0.08466914]\n",
            " [0.68503459 0.31496541]\n",
            " [0.99073756 0.00926244]\n",
            " [0.76795019 0.23204981]\n",
            " [0.79871935 0.20128065]\n",
            " [0.73176833 0.26823167]\n",
            " [0.67465216 0.32534784]\n",
            " [0.7971247  0.2028753 ]\n",
            " [0.84935621 0.15064379]\n",
            " [0.86467086 0.13532914]\n",
            " [0.85844149 0.14155851]\n",
            " [0.8453326  0.1546674 ]\n",
            " [0.83038797 0.16961203]\n",
            " [0.92192747 0.07807253]\n",
            " [0.83189722 0.16810278]\n",
            " [0.97707547 0.02292453]\n",
            " [0.90418224 0.09581776]\n",
            " [0.92691196 0.07308804]\n",
            " [0.84797361 0.15202639]\n",
            " [0.76712579 0.23287421]\n",
            " [0.94895152 0.05104848]\n",
            " [0.94782082 0.05217918]\n",
            " [0.75181521 0.24818479]\n",
            " [0.8788047  0.1211953 ]\n",
            " [0.80770783 0.19229217]\n",
            " [0.93864297 0.06135703]\n",
            " [0.86008494 0.13991506]\n",
            " [0.76056723 0.23943277]\n",
            " [0.90892468 0.09107532]\n",
            " [0.75402141 0.24597859]\n",
            " [0.94271838 0.05728162]\n",
            " [0.91827318 0.08172682]\n",
            " [0.90545127 0.09454873]\n",
            " [0.76879468 0.23120532]\n",
            " [0.92358132 0.07641868]\n",
            " [0.80705887 0.19294113]\n",
            " [0.90079525 0.09920475]\n",
            " [0.87933322 0.12066678]\n",
            " [0.80585706 0.19414294]\n",
            " [0.83150068 0.16849932]\n",
            " [0.53816801 0.46183199]\n",
            " [0.95031821 0.04968179]\n",
            " [0.73291921 0.26708079]\n",
            " [0.89182874 0.10817126]\n",
            " [0.80079859 0.19920141]\n",
            " [0.87739802 0.12260198]\n",
            " [0.96805228 0.03194772]\n",
            " [0.81741596 0.18258404]\n",
            " [0.86150085 0.13849915]\n",
            " [0.59407578 0.40592422]\n",
            " [0.82625729 0.17374271]\n",
            " [0.92534969 0.07465031]\n",
            " [0.81692206 0.18307794]\n",
            " [0.9258678  0.0741322 ]\n",
            " [0.8909459  0.1090541 ]\n",
            " [0.70071778 0.29928222]\n",
            " [0.82181894 0.17818106]\n",
            " [0.96589935 0.03410065]\n",
            " [0.8699699  0.1300301 ]\n",
            " [0.89918545 0.10081455]\n",
            " [0.88983808 0.11016192]\n",
            " [0.81432466 0.18567534]\n",
            " [0.85830032 0.14169968]\n",
            " [0.8387865  0.1612135 ]\n",
            " [0.84056579 0.15943421]\n",
            " [0.82661166 0.17338834]\n",
            " [0.94075161 0.05924839]\n",
            " [0.83183533 0.16816467]\n",
            " [0.7756136  0.2243864 ]\n",
            " [0.69399555 0.30600445]\n",
            " [0.8596213  0.1403787 ]\n",
            " [0.8251394  0.1748606 ]\n",
            " [0.84107717 0.15892283]\n",
            " [0.87191013 0.12808987]\n",
            " [0.8944765  0.1055235 ]\n",
            " [0.82945355 0.17054645]\n",
            " [0.72856817 0.27143183]\n",
            " [0.94692819 0.05307181]\n",
            " [0.96074297 0.03925703]\n",
            " [0.90500199 0.09499801]\n",
            " [0.88599986 0.11400014]\n",
            " [0.84865641 0.15134359]\n",
            " [0.79086983 0.20913017]\n",
            " [0.67302986 0.32697014]\n",
            " [0.93390204 0.06609796]\n",
            " [0.65644896 0.34355104]\n",
            " [0.74382857 0.25617143]\n",
            " [0.94248406 0.05751594]\n",
            " [0.78365668 0.21634332]\n",
            " [0.90655654 0.09344346]\n",
            " [0.81578726 0.18421274]\n",
            " [0.89149735 0.10850265]\n",
            " [0.85791873 0.14208127]\n",
            " [0.67453868 0.32546132]\n",
            " [0.93130389 0.06869611]\n",
            " [0.89999981 0.10000019]]\n"
          ]
        }
      ]
    },
    {
      "cell_type": "code",
      "source": [
        "from sklearn import metrics\n",
        "\n",
        "print (metrics.accuracy_score(y_test, predicted))\n",
        "print (metrics.roc_auc_score(y_test, probs[:, 1]))"
      ],
      "metadata": {
        "colab": {
          "base_uri": "https://localhost:8080/"
        },
        "id": "61rvM6uXN0qA",
        "outputId": "5b0b5f33-1a86-4f0b-ebc8-7e294bfd35ef"
      },
      "execution_count": 37,
      "outputs": [
        {
          "output_type": "stream",
          "name": "stdout",
          "text": [
            "0.8435374149659864\n",
            "0.6502502887947632\n"
          ]
        }
      ]
    },
    {
      "cell_type": "code",
      "source": [
        "print (metrics.confusion_matrix(y_test, predicted))\n",
        "print (metrics.classification_report(y_test, predicted))"
      ],
      "metadata": {
        "colab": {
          "base_uri": "https://localhost:8080/"
        },
        "id": "80jcMVJ4N4QS",
        "outputId": "158cf5c4-f632-4fe0-dcc8-d34b61b51876"
      },
      "execution_count": 38,
      "outputs": [
        {
          "output_type": "stream",
          "name": "stdout",
          "text": [
            "[[371   0]\n",
            " [ 69   1]]\n",
            "              precision    recall  f1-score   support\n",
            "\n",
            "         0.0       0.84      1.00      0.91       371\n",
            "         1.0       1.00      0.01      0.03        70\n",
            "\n",
            "    accuracy                           0.84       441\n",
            "   macro avg       0.92      0.51      0.47       441\n",
            "weighted avg       0.87      0.84      0.77       441\n",
            "\n"
          ]
        }
      ]
    },
    {
      "cell_type": "code",
      "source": [
        "print (X_train)"
      ],
      "metadata": {
        "colab": {
          "base_uri": "https://localhost:8080/"
        },
        "id": "kx5qpCp6N86Q",
        "outputId": "4ee020a3-51a8-4adb-da60-14b8021f6ddc"
      },
      "execution_count": 39,
      "outputs": [
        {
          "output_type": "stream",
          "name": "stdout",
          "text": [
            "      Intercept   Age  Department  DistanceFromHome  Education  \\\n",
            "338         1.0  30.0         2.0               5.0        3.0   \n",
            "363         1.0  33.0         2.0               5.0        3.0   \n",
            "759         1.0  45.0         3.0              24.0        4.0   \n",
            "793         1.0  28.0         1.0              15.0        2.0   \n",
            "581         1.0  30.0         1.0               1.0        3.0   \n",
            "...         ...   ...         ...               ...        ...   \n",
            "763         1.0  34.0         2.0              10.0        4.0   \n",
            "835         1.0  35.0         3.0               8.0        4.0   \n",
            "1216        1.0  43.0         2.0               2.0        3.0   \n",
            "559         1.0  38.0         1.0               2.0        5.0   \n",
            "684         1.0  40.0         2.0              10.0        4.0   \n",
            "\n",
            "      EducationField  YearsAtCompany  \n",
            "338              3.0            10.0  \n",
            "363              3.0             1.0  \n",
            "759              2.0             6.0  \n",
            "793              1.0             4.0  \n",
            "581              1.0             2.0  \n",
            "...              ...             ...  \n",
            "763              1.0             1.0  \n",
            "835              5.0             5.0  \n",
            "1216             2.0            10.0  \n",
            "559              2.0             1.0  \n",
            "684              3.0             1.0  \n",
            "\n",
            "[1029 rows x 7 columns]\n"
          ]
        }
      ]
    },
    {
      "cell_type": "code",
      "source": [
        "#add random values to KK according to the parameters mentioned above to check the proabily of attrition of the employee\n",
        "kk=[[1.0, 23.0, 1.0, 500.0, 3.0, 24.0, 1.0]]\n",
        "print(model.predict_proba(kk))"
      ],
      "metadata": {
        "colab": {
          "base_uri": "https://localhost:8080/"
        },
        "id": "SaRKHcm1N_v5",
        "outputId": "6e82fbfc-a239-4b38-f3c3-78b98553b591"
      },
      "execution_count": 40,
      "outputs": [
        {
          "output_type": "stream",
          "name": "stdout",
          "text": [
            "[[6.25571946e-07 9.99999374e-01]]\n"
          ]
        },
        {
          "output_type": "stream",
          "name": "stderr",
          "text": [
            "/usr/local/lib/python3.8/dist-packages/sklearn/base.py:450: UserWarning: X does not have valid feature names, but LogisticRegression was fitted with feature names\n",
            "  warnings.warn(\n"
          ]
        }
      ]
    },
    {
      "cell_type": "code",
      "source": [],
      "metadata": {
        "id": "3-czJO4AOD8j"
      },
      "execution_count": 40,
      "outputs": []
    }
  ]
}